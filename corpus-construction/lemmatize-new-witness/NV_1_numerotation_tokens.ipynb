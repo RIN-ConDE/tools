{
 "cells": [
  {
   "cell_type": "code",
   "execution_count": 1,
   "metadata": {},
   "outputs": [],
   "source": [
    "def id_tokens_in_tei(chemin_entree, chemin_sortie):\n",
    "    \n",
    "    \"\"\"\n",
    "    Fonction permettant de lire un fichier XML-TEI pour cibler les\n",
    "    éléments <w> et leur ajouter un @n unique, numéroté à partir de 1.\n",
    "    Si on souhaite utiliser des entités, elles sont résolues dans le\n",
    "    fichier de sortie, mieux vaut donc les installer ensuite.\n",
    "    \n",
    "    :param chemin_entree: Le chemin local du fichier XML-TEI tokenisé\n",
    "        aux éléments <w> duquel on souhaite ajouter des numéros.\n",
    "    :param chemin_sortie: Le chemin local auquel on souhaite écrire le\n",
    "        fichier XML-TEI de sortie avec ses @n ajoutés.\n",
    "    \n",
    "    \"\"\"\n",
    "\n",
    "    import xml.etree.ElementTree as ET\n",
    "    \n",
    "    # On crée un compteur pour les numéros des tokens.\n",
    "    counter = 1\n",
    "        \n",
    "    # On importe le XML-TEI d'entrée et on le lit.\n",
    "    tree = ET.parse(chemin_entree)\n",
    "    root = tree.getroot()\n",
    "\n",
    "    # On boucle sur les éléments <w> dans l'ordre du fichier.\n",
    "    for word in root.findall('.//w'):\n",
    "        \n",
    "        # On crée un attribut \"n\" avec, comme valeur, l'état actuel du compteur.\n",
    "        word.set('n', str(counter))\n",
    "        # On ajoute 1 au compteur pour le prochain <w>.\n",
    "        counter += 1\n",
    "\n",
    "    # On écrit le TEI obtenu dans le fichier spécifié en second paramètre.\n",
    "    tree.write(chemin_sortie, xml_declaration=True, encoding=\"unicode\")"
   ]
  },
  {
   "cell_type": "code",
   "execution_count": 2,
   "metadata": {},
   "outputs": [],
   "source": [
    "# Pour exécuter la fonction, on remplace les deux chemins par ceux souhaités.\n",
    "\n",
    "id_tokens_in_tei(\n",
    "    '/home/erminea/Documents/CONDE/Morisse-TS-XML/2021-03-19_morisse_tokenise.xml',\n",
    "    '/home/erminea/Documents/CONDE/Morisse-TS-XML/2021-03-19_morisse_w_numerotes.xml'\n",
    "    )"
   ]
  }
 ],
 "metadata": {
  "kernelspec": {
   "display_name": "Python 3",
   "language": "python",
   "name": "python3"
  },
  "language_info": {
   "codemirror_mode": {
    "name": "ipython",
    "version": 3
   },
   "file_extension": ".py",
   "mimetype": "text/x-python",
   "name": "python",
   "nbconvert_exporter": "python",
   "pygments_lexer": "ipython3",
   "version": "3.8.3"
  }
 },
 "nbformat": 4,
 "nbformat_minor": 2
}
