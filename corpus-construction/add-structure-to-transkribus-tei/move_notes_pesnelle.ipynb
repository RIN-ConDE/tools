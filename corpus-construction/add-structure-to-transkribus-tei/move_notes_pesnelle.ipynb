{
 "cells": [
  {
   "cell_type": "code",
   "execution_count": 15,
   "metadata": {},
   "outputs": [
    {
     "data": {
      "text/plain": [
       "5893039"
      ]
     },
     "execution_count": 15,
     "metadata": {},
     "output_type": "execute_result"
    }
   ],
   "source": [
    "import xml.etree.ElementTree as ET\n",
    "import re\n",
    "\n",
    "\n",
    "entree_tree = ET.parse('data/2020-07-10_Pesnelle_T1.xml')\n",
    "entree_root = entree_tree.getroot()\n",
    "\n",
    "# On boucle sur les div[@type='section'].\n",
    "for section in entree_root.findall('.//div[@type=\"section\"]'):\n",
    "    \n",
    "    # On y cherche les appels de note, on s'arrête sur chaque.\n",
    "    for appel_note in section.findall('.//note[@type=\"appel\"]'):\n",
    "        # On garde en mémoire le numéro de l'appel de note.\n",
    "        n_appel = appel_note.get('n')\n",
    "        \n",
    "        # On boucle sur les notes de bas-de-page de la section courante.\n",
    "        for note_pleine in section.findall('./note[p]'):\n",
    "            # Pour chaque note on regarde si elle porte le même numéro que l'appel courant.\n",
    "            if note_pleine.get('n') == n_appel:\n",
    "                # Si c'est le cas, on place la note dans l'appel et on la supprime.\n",
    "                appel_note.append(note_pleine)\n",
    "                section.remove(note_pleine)\n",
    "                \n",
    "a_ecrire = ET.tostring(entree_root, encoding=\"unicode\", method=\"xml\")\n",
    "    \n",
    "ecriture = open('data/2020-07-10_Pesnelle_T1_notes.xml', \"w\")\n",
    "ecriture.write(a_ecrire)"
   ]
  }
 ],
 "metadata": {
  "kernelspec": {
   "display_name": "Python 3",
   "language": "python",
   "name": "python3"
  },
  "language_info": {
   "codemirror_mode": {
    "name": "ipython",
    "version": 3
   },
   "file_extension": ".py",
   "mimetype": "text/x-python",
   "name": "python",
   "nbconvert_exporter": "python",
   "pygments_lexer": "ipython3",
   "version": "3.8.3"
  }
 },
 "nbformat": 4,
 "nbformat_minor": 2
}
