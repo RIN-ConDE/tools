{
 "cells": [
  {
   "cell_type": "markdown",
   "metadata": {},
   "source": [
    "## Plan de bataille\n",
    "\n",
    "* On fait un tableau csv avec un lien par ligne.\n",
    "* On extrait tous les identifiants des facsimile.\n",
    "* On les aligne en supprimant les lignes de IIIF inutiles.\n",
    "* On resynchronise."
   ]
  },
  {
   "cell_type": "code",
   "execution_count": 2,
   "metadata": {},
   "outputs": [],
   "source": [
    "import csv\n",
    "import json\n",
    "import requests\n",
    "import xml.etree.ElementTree as ET"
   ]
  },
  {
   "cell_type": "markdown",
   "metadata": {},
   "source": [
    "## Récupérer le manifeste IIIF\n",
    "\n",
    "Pour l'ark :\n",
    "        https://gallica.bnf.fr/ark:/12148/bpt6k9684477n\n",
    "le manifeste IIIF est :\n",
    "        https://gallica.bnf.fr/iiif/ark:/12148/bpt6k9684477n/manifest.json\n",
    "        \n",
    "* Chemin vers les images :\n",
    "        manifeste['sequences']['0']['canvases']\n",
    "        \n",
    "* Ensuite, \"for each\" depuis le précédent et ensuite, chemin :\n",
    "        ['images']['0']['resource']['@id']\n",
    "        \n",
    "Et on a l'adresse de l'image en jpg."
   ]
  },
  {
   "cell_type": "code",
   "execution_count": 17,
   "metadata": {},
   "outputs": [],
   "source": [
    "requete = requests.get(\"https://gallica.bnf.fr/iiif/ark:/12148/bpt6k9684477n/manifest.json\")\n",
    "     \n",
    "with open(\"/home/erminea/Documents/CONDE/iiif/pesnelle-t1.csv\", \"w\") as csv_a_remplir:\n",
    "    csv_contenu = csv.DictWriter(csv_a_remplir, fieldnames = ['label', 'iiif', 'transkribus'])\n",
    "    csv_contenu.writeheader()\n",
    "\n",
    "    for page in requete.json()['sequences'][0]['canvases']:\n",
    "        \n",
    "        csv_contenu.writerow({\n",
    "            'label' : page['label'],\n",
    "            'iiif': page['images'][0]['resource']['@id'],\n",
    "            'transkribus':''\n",
    "        })"
   ]
  },
  {
   "cell_type": "markdown",
   "metadata": {},
   "source": [
    "## Récupérer les identifiants Transkribus\n",
    "\n",
    "Viser les /TEI/facsimile/surface/graphic/@url"
   ]
  },
  {
   "cell_type": "code",
   "execution_count": 6,
   "metadata": {},
   "outputs": [],
   "source": [
    "# On donne à ET l'espace de nom de la TEI utilisé dans nos XML.\n",
    "correspondances = {}\n",
    "\n",
    "pagedict = {}\n",
    "\n",
    "with open('/home/erminea/Documents/CONDE/iiif/ruines.csv') as csvfile:\n",
    "    csvlu = csv.DictReader(csvfile)\n",
    "    \n",
    "    for row in csvlu:\n",
    "        pagination = row['label']\n",
    "        iiif = row['iiif']\n",
    "        ts = row['transkribus']\n",
    "        \n",
    "        localdict = {'iiif' : iiif, 'pagination' : pagination}\n",
    "        pagedict[ts] = localdict\n",
    "        del localdict\n",
    "\n",
    "\n",
    "with open('/home/erminea/Documents/CONDE/editions/base-version/ruines_base.xml') as orig:\n",
    "    # On lit l'arbre XML et on trouve sa racine ('TEI').\n",
    "    tree = ET.parse(orig)\n",
    "    root = tree.getroot()\n",
    "\n",
    "    for surface in root.findall('.//surface'):\n",
    "        image = surface.find('./graphic').get('url')\n",
    "        \n",
    "        surface.set('source', pagedict[image]['iiif'])\n",
    "        surface.set('n', pagedict[image]['pagination'])\n",
    "        \n",
    "    tree.write('/home/erminea/Documents/CONDE/iiif/ruines_base.xml', xml_declaration=True, encoding=\"unicode\")    "
   ]
  }
 ],
 "metadata": {
  "kernelspec": {
   "display_name": "Python 3",
   "language": "python",
   "name": "python3"
  },
  "language_info": {
   "codemirror_mode": {
    "name": "ipython",
    "version": 3
   },
   "file_extension": ".py",
   "mimetype": "text/x-python",
   "name": "python",
   "nbconvert_exporter": "python",
   "pygments_lexer": "ipython3",
   "version": "3.8.3"
  }
 },
 "nbformat": 4,
 "nbformat_minor": 4
}
