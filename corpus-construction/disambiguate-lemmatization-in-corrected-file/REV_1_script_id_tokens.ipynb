{
 "cells": [
  {
   "cell_type": "markdown",
   "metadata": {},
   "source": [
    "# Re-numbering tokens after revisions\n",
    "\n",
    "* __Note__: This script is similar to [this one](../lemmatize-new-witness/NV_1_numerotation_tokens.ipynb), which is rather meant for a file whose `<w>` still have no `att.n` attributes.\n",
    "* __Note__: due to the fact that on GitHub the `@` sign is used to tag users, it is replaced by `att.` in XPath expressions.\n",
    "\n",
    "This script takes a valid TEI-XML file, tokenised with `//tei:w[att.n]` elements. Its only function will remove the current `att.n` when they are there, and give a new unique number to each `<w>` element, within an `att.n` attribute, in the reading order.\n",
    "\n",
    "### FUNCTION: give each `<w>` element a (new?) number"
   ]
  },
  {
   "cell_type": "code",
   "execution_count": 1,
   "metadata": {},
   "outputs": [],
   "source": [
    "def id_tokens_in_tei(chemin_entree, chemin_sortie):\n",
    "    \n",
    "    \"\"\"\n",
    "    This function takes a valid TEI-XML file as input.\n",
    "    It targets all <w> elements and gives them a unique\n",
    "    @n attribute, numbered from 1, removing the previous\n",
    "    one if needed. The result is a valid TEI-XML file.\n",
    "    \n",
    "    :param chemin_entree: The local path to the tokenized\n",
    "        TEI-XML file whose <w> elements need to be numbered.\n",
    "    :param chemin_sortie: The local path for the output file.\n",
    "    \n",
    "    \"\"\"\n",
    "\n",
    "    import xml.etree.ElementTree as ET\n",
    "    \n",
    "    ET.register_namespace('', 'http://www.tei-c.org/ns/1.0')\n",
    "    \n",
    "    \n",
    "    # Create a counter.\n",
    "    counter = 1\n",
    "    \n",
    "    # Declare the TEI namespace, without a prefix since it is the only one.\n",
    "    ET.register_namespace('', \"http://tei-c.org/ns/1.0\")\n",
    "    \n",
    "    # Import and parse the input XML file.\n",
    "    tree = ET.parse(chemin_entree)\n",
    "    root = tree.getroot()\n",
    "\n",
    "    # Loop on <w> elements in reading order.\n",
    "    for word in root.findall('.//{http://www.tei-c.org/ns/1.0}w'):\n",
    "    \n",
    "        # If the <w> element already has an @n attribute, remove it\n",
    "        # so we can replace it.\n",
    "        if word.get('n'):\n",
    "            del word.attrib['n']\n",
    "        # Make an @n attribute with the current state of the counter as value.\n",
    "        word.set('n', str(counter))\n",
    "        # Add 1 to the counter for the next <w> element.\n",
    "        counter += 1\n",
    "\n",
    "    # Write the output file at the path specified as second argument.\n",
    "    tree.write(chemin_sortie, xml_declaration=True, encoding=\"unicode\")"
   ]
  },
  {
   "cell_type": "markdown",
   "metadata": {},
   "source": [
    "### Defining input and output files to execute the function"
   ]
  },
  {
   "cell_type": "code",
   "execution_count": 4,
   "metadata": {},
   "outputs": [
    {
     "data": {
      "text/plain": [
       "\"id_tokens_in_tei(\\n    '/home/erminea/Documents/CONDE/editions/base-version/berault_base.xml',\\n    '/home/erminea/Documents/CONDE/nov-21_renum/berault_base.xml'\\n    )\\n\\nid_tokens_in_tei(\\n    '/home/erminea/Documents/CONDE/editions/base-version/merville_base.xml',\\n    '/home/erminea/Documents/CONDE/nov-21_renum/merville_base.xml'\\n    )\\n\\nid_tokens_in_tei(\\n    '/home/erminea/Documents/CONDE/editions/base-version/pesnelle_base.xml',\\n    '/home/erminea/Documents/CONDE/nov-21_renum/pesnelle_base.xml'\\n    )\\n\\nid_tokens_in_tei(\\n    '/home/erminea/Documents/CONDE/editions/base-version/ruines_base.xml',\\n    '/home/erminea/Documents/CONDE/nov-21_renum/ruines_base.xml'\\n    )\\n\\nid_tokens_in_tei(\\n    '/home/erminea/Documents/CONDE/editions/base-version/tac_base.xml',\\n    '/home/erminea/Documents/CONDE/nov-21_renum/tac_base.xml'\\n    )\\n\\nid_tokens_in_tei(\\n    '/home/erminea/Documents/CONDE/editions/base-version/terrien_base.xml',\\n    '/home/erminea/Documents/CONDE/nov-21_renum/terrien_base.xml'\\n    )\\n\\nid_tokens_in_tei(\\n    '/home/erminea/Documents/CONDE/editions/base-version/instructions_base.xml',\\n    '/home/erminea/Documents/CONDE/nov-21_renum/instructions_base.xml'\\n    )\\n\\nid_tokens_in_tei(\\n    '/home/erminea/Documents/CONDE/editions/base-version/rouille_base.xml',\\n    '/home/erminea/Documents/CONDE/nov-21_renum/rouille_base.xml'\\n    )\""
      ]
     },
     "execution_count": 4,
     "metadata": {},
     "output_type": "execute_result"
    }
   ],
   "source": [
    "# To execute the function, replace current paths with your own..\n",
    "\n",
    "id_tokens_in_tei(\n",
    "    '/local/path/to/input-file.xml',\n",
    "    '/local/path/to/output-file.xml'\n",
    "    )"
   ]
  }
 ],
 "metadata": {
  "kernelspec": {
   "display_name": "Python 3 (ipykernel)",
   "language": "python",
   "name": "python3"
  },
  "language_info": {
   "codemirror_mode": {
    "name": "ipython",
    "version": 3
   },
   "file_extension": ".py",
   "mimetype": "text/x-python",
   "name": "python",
   "nbconvert_exporter": "python",
   "pygments_lexer": "ipython3",
   "version": "3.9.7"
  }
 },
 "nbformat": 4,
 "nbformat_minor": 2
}
