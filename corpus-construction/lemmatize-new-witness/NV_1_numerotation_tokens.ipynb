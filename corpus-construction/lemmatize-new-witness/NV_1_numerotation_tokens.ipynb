{
 "cells": [
  {
   "cell_type": "markdown",
   "metadata": {},
   "source": [
    "# Numbering tokens for an initial lemmatisation\n",
    "\n",
    "* __Note__: This script is similar to [this one](../disambiguate-lemmatization-in-corrected-file/REV_1_script_id_tokens.ipynb), which is rather meant to redo the numbering of tokens after the lemmas/pos tagging was revised directly within the XML file.\n",
    "* __Note__: due to the fact that on GitHub the `@` sign is used to tag users, it is replaced by `att.` in XPath expressions.\n",
    "\n",
    "This script takes a valid TEI-XML file, tokenised with `//tei:w[not(att.n)]` elements. Its only function will give a unique number to each `<w>` element, within an `att.n` attribute, in the reading order.\n",
    "\n",
    "### FUNCTION: give each `<w>` element a number"
   ]
  },
  {
   "cell_type": "code",
   "execution_count": 1,
   "metadata": {},
   "outputs": [],
   "source": [
    "def id_tokens_in_tei(chemin_entree, chemin_sortie):\n",
    "    \n",
    "    \"\"\"\n",
    "    This function takes a valid TEI-XML file as input.\n",
    "    It targets all <w> elements and gives them a unique\n",
    "    @n attribute, numbered from 1. The result is\n",
    "    a valid TEI-XML file.\n",
    "    \n",
    "    :param chemin_entree: The local path to the tokenized\n",
    "        TEI-XML file whose <w> elements need to be numbered.\n",
    "    :param chemin_sortie: The local path for the output file.\n",
    "    \n",
    "    \"\"\"\n",
    "\n",
    "    import xml.etree.ElementTree as ET\n",
    "    \n",
    "    # Create a counter.\n",
    "    counter = 1\n",
    "    \n",
    "    # Declare the TEI namespace, without a prefix since it is the only one.\n",
    "    ET.register_namespace('', \"http://tei-c.org/ns/1.0\")\n",
    "    \n",
    "    # Import and parse the input XML file.\n",
    "    tree = ET.parse(chemin_entree)\n",
    "    root = tree.getroot()\n",
    "\n",
    "    # Loop on <w> elements in reading order.\n",
    "    for word in root.findall('.//{http://www.tei-c.org/ns/1.0}w'):\n",
    "        \n",
    "        # Make an @n attribute with the current state of the counter as value.\n",
    "        word.set('n', str(counter))\n",
    "        # Add 1 to the counter for the next <w> element.\n",
    "        counter += 1\n",
    "\n",
    "    # Write the output file at the path specified as second argument.\n",
    "    tree.write(chemin_sortie, xml_declaration=True, encoding=\"unicode\")"
   ]
  },
  {
   "cell_type": "markdown",
   "metadata": {},
   "source": [
    "### Defining input and output files to execute the function"
   ]
  },
  {
   "cell_type": "code",
   "execution_count": 2,
   "metadata": {},
   "outputs": [],
   "source": [
    "# To execute the function, replace current paths with your own..\n",
    "\n",
    "id_tokens_in_tei(\n",
    "    '/local/path/to/input-file.xml',\n",
    "    '/local/path/to/output-file.xml'\n",
    "    )"
   ]
  }
 ],
 "metadata": {
  "kernelspec": {
   "display_name": "Python 3 (ipykernel)",
   "language": "python",
   "name": "python3"
  },
  "language_info": {
   "codemirror_mode": {
    "name": "ipython",
    "version": 3
   },
   "file_extension": ".py",
   "mimetype": "text/x-python",
   "name": "python",
   "nbconvert_exporter": "python",
   "pygments_lexer": "ipython3",
   "version": "3.9.7"
  }
 },
 "nbformat": 4,
 "nbformat_minor": 2
}
