{
 "cells": [
  {
   "cell_type": "code",
   "execution_count": 2,
   "metadata": {},
   "outputs": [],
   "source": [
    "import xml.etree.ElementTree as ET\n",
    "\n",
    "refs_prune = []\n",
    "refs_final = []\n",
    "\n",
    "ET.register_namespace('tei','http://www.tei-c.org/ns/1.0')"
   ]
  },
  {
   "cell_type": "code",
   "execution_count": 17,
   "metadata": {},
   "outputs": [],
   "source": [
    "with open('/home/erminea/Documents/CONDE/Prune_resync/Basnage_BasePD.xml') as prunexml:\n",
    "    tree=ET.parse(prunexml)\n",
    "    root = tree.getroot()\n",
    "    for reference in root.findall('.//{http://www.tei-c.org/ns/1.0}ref'):\n",
    "        refs_prune.append(reference.get('corresp'))\n",
    "        \n",
    "with open('/home/erminea/Documents/CONDE/Encodage/2020-04-29-editions-refd/basnage_base.xml') as finalxml:\n",
    "    tree=ET.parse(finalxml)\n",
    "    root = tree.getroot()\n",
    "    for reference in root.findall('.//{http://www.tei-c.org/ns/1.0}ref'):\n",
    "        refs_final.append(reference.get('corresp'))"
   ]
  },
  {
   "cell_type": "code",
   "execution_count": 18,
   "metadata": {},
   "outputs": [],
   "source": [
    "pruniques = list(set(refs_prune))\n",
    "finiques = list(set(refs_final))\n",
    "\n",
    "dico_prune = {}\n",
    "dico_final = {}\n",
    "\n",
    "for ident in pruniques:\n",
    "    dico_prune[ident] = refs_prune.count(ident)\n",
    "for iden in finiques:\n",
    "    dico_final[iden] = refs_final.count(iden)"
   ]
  },
  {
   "cell_type": "code",
   "execution_count": 29,
   "metadata": {},
   "outputs": [
    {
     "name": "stdout",
     "output_type": "stream",
     "text": [
      "L'identifiant ' #zenon ' n'est pas dans le fichier transformé.\n",
      "Il manque  1 / 174  ' #pontanus 'après transfo.\n",
      "Il manque  1 / 472  ' #louet 'après transfo.\n",
      "Il manque  1 / 296  ' #arg 'après transfo.\n",
      "Il manque  1 / 372  ' #cujas 'après transfo.\n",
      "Il manque  1 / 398  ' #godefroy 'après transfo.\n",
      "Il manque  1 / 194  ' #justinien 'après transfo.\n",
      "Il manque  1 / 204  ' #brodeau 'après transfo.\n",
      "Il manque  1 / 12  ' #honorius 'après transfo.\n",
      "Il manque  1 / 110  ' #papinien 'après transfo.\n"
     ]
    }
   ],
   "source": [
    "for identifiant in dico_prune.keys():\n",
    "    if identifiant in dico_final.keys() and dico_prune[identifiant]/2 != dico_final[identifiant]:\n",
    "        print(\"Il manque \", round(dico_prune[identifiant]/2 - dico_final[identifiant]), \"/\", round(dico_prune[identifiant]), \" '\", identifiant, \"'après transfo.\")\n",
    "    elif identifiant not in dico_final.keys():\n",
    "        print(\"L'identifiant '\", identifiant, \"' n'est pas dans le fichier transformé.\")"
   ]
  }
 ],
 "metadata": {
  "kernelspec": {
   "display_name": "Python 3",
   "language": "python",
   "name": "python3"
  },
  "language_info": {
   "codemirror_mode": {
    "name": "ipython",
    "version": 3
   },
   "file_extension": ".py",
   "mimetype": "text/x-python",
   "name": "python",
   "nbconvert_exporter": "python",
   "pygments_lexer": "ipython3",
   "version": "3.8.3"
  }
 },
 "nbformat": 4,
 "nbformat_minor": 4
}
